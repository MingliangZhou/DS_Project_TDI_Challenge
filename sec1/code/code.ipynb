{
 "cells": [
  {
   "cell_type": "code",
   "execution_count": 37,
   "metadata": {},
   "outputs": [],
   "source": [
    "#\n",
    "# Read files\n",
    "#\n",
    "\n",
    "import pandas as pd\n",
    "import numpy as np\n",
    "import glob\n",
    "\n",
    "import matplotlib\n",
    "import matplotlib.pyplot as plt\n",
    "%matplotlib inline\n",
    "\n",
    "from jupyterthemes import jtplot\n",
    "jtplot.style(theme='grade3')"
   ]
  },
  {
   "cell_type": "code",
   "execution_count": 38,
   "metadata": {},
   "outputs": [
    {
     "name": "stderr",
     "output_type": "stream",
     "text": [
      "/usr/local/Cellar/python3/3.6.0/Frameworks/Python.framework/Versions/3.6/lib/python3.6/site-packages/IPython/core/interactiveshell.py:2728: DtypeWarning: Columns (0) have mixed types. Specify dtype option on import or set low_memory=False.\n",
      "  interactivity=interactivity, compiler=compiler, result=result)\n"
     ]
    },
    {
     "name": "stdout",
     "output_type": "stream",
     "text": [
      "<class 'pandas.core.frame.DataFrame'>\n",
      "Int64Index: 3542048 entries, 0 to 104104\n",
      "Data columns (total 9 columns):\n",
      "BIOGUIDE_ID    object\n",
      "OFFICE         object\n",
      "CATEGORY       object\n",
      "START DATE     object\n",
      "END DATE       object\n",
      "PURPOSE        object\n",
      "PAYEE          object\n",
      "YEAR           object\n",
      "AMOUNT         float64\n",
      "dtypes: float64(1), object(8)\n",
      "memory usage: 270.2+ MB\n"
     ]
    }
   ],
   "source": [
    "allFiles = glob.glob(\"../data_test/*.csv\")\n",
    "df = pd.DataFrame()\n",
    "list_ = []\n",
    "for file_ in allFiles:\n",
    "    dfTmp = pd.read_csv(file_,index_col=None, header=0, encoding=\"ISO-8859-1\", thousands=',')\n",
    "    dfTmp = dfTmp[['BIOGUIDE_ID', 'OFFICE', 'CATEGORY', 'START DATE', 'END DATE', 'PURPOSE', 'PAYEE', 'YEAR', 'AMOUNT']]\n",
    "    list_.append(dfTmp)\n",
    "df = pd.concat(list_)\n",
    "df.info()"
   ]
  },
  {
   "cell_type": "code",
   "execution_count": 39,
   "metadata": {},
   "outputs": [
    {
     "name": "stdout",
     "output_type": "stream",
     "text": [
      "Question 1: 1.366070379e+10\n"
     ]
    }
   ],
   "source": [
    "#\n",
    "# Question 1\n",
    "#\n",
    "print(\"Question 1: {:.10}\".format(df['AMOUNT'].sum()))"
   ]
  },
  {
   "cell_type": "code",
   "execution_count": 40,
   "metadata": {},
   "outputs": [
    {
     "name": "stdout",
     "output_type": "stream",
     "text": [
      "Question 2: 61.88080826\n"
     ]
    }
   ],
   "source": [
    "#\n",
    "# Question 2\n",
    "#\n",
    "df['START DATE'] = pd.to_datetime(df['START DATE'], format='%m/%d/%y', errors='coerce')\n",
    "df['END DATE'] = pd.to_datetime(df['END DATE'], format='%m/%d/%y', errors='coerce')\n",
    "df['COVERAGE PERIOD'] = (df['END DATE'] - df['START DATE'])\n",
    "print(\"Question 2: {:.10}\".format(df[df['AMOUNT']>0]['COVERAGE PERIOD'].std().total_seconds()/24/60/60))"
   ]
  },
  {
   "cell_type": "code",
   "execution_count": 41,
   "metadata": {},
   "outputs": [
    {
     "name": "stdout",
     "output_type": "stream",
     "text": [
      "Question 3: 1.209984621e+09\n"
     ]
    }
   ],
   "source": [
    "#\n",
    "# Question 3\n",
    "#\n",
    "years = range(2010,2017)\n",
    "total = 0\n",
    "for year in years:\n",
    "    total += df[(df['START DATE'].dt.year==year) & (df['AMOUNT']>0)]['AMOUNT'].sum()\n",
    "print(\"Question 3: {:.10}\".format(total/len(years)))"
   ]
  },
  {
   "cell_type": "code",
   "execution_count": 42,
   "metadata": {},
   "outputs": [
    {
     "name": "stdout",
     "output_type": "stream",
     "text": [
      "Question 4: 0.05687370793\n"
     ]
    }
   ],
   "source": [
    "#\n",
    "# Question 4\n",
    "#\n",
    "top_office = df[df['START DATE'].dt.year==2016][['OFFICE','AMOUNT']].groupby(['OFFICE'], as_index=False).sum().sort_values(by='AMOUNT', ascending=False).iloc[0]['OFFICE']\n",
    "part_total = df[(df['START DATE'].dt.year==2016) & (df['OFFICE']==top_office)][['PURPOSE','AMOUNT']].groupby(['PURPOSE'], as_index=False).sum().sort_values(by='AMOUNT', ascending=False).iloc[0]['AMOUNT']\n",
    "total = df[df['START DATE'].dt.year==2016]['AMOUNT'].sum()\n",
    "print(\"Question 4: {:.10}\".format(part_total/total))"
   ]
  },
  {
   "cell_type": "code",
   "execution_count": 190,
   "metadata": {},
   "outputs": [
    {
     "name": "stderr",
     "output_type": "stream",
     "text": [
      "/usr/local/Cellar/python3/3.6.0/Frameworks/Python.framework/Versions/3.6/lib/python3.6/site-packages/ipykernel_launcher.py:4: FutureWarning: currently extract(expand=None) means expand=False (return Index/Series/DataFrame) but in a future version of pandas this will be changed to expand=True (return DataFrame)\n",
      "  after removing the cwd from sys.path.\n"
     ]
    },
    {
     "name": "stdout",
     "output_type": "stream",
     "text": [
      "Question 5: 73816.42596\n"
     ]
    }
   ],
   "source": [
    "#\n",
    "# Question 5\n",
    "#\n",
    "df['YEAR'] = df['YEAR'].str.extract('(\\d\\d\\d\\d)').astype('float')\n",
    "df['BIOGUIDE_ID'].fillna('UNKNOWN', inplace=True)\n",
    "df_OFFICE_PAYEE = df[(df['CATEGORY']=='PERSONNEL COMPENSATION') & (df['YEAR']==2016)][['BIOGUIDE_ID', 'PAYEE', 'AMOUNT']].groupby(['BIOGUIDE_ID','PAYEE'], as_index=False).sum()\n",
    "print(\"Question 5: {:.10}\".format(df_OFFICE_PAYEE[['BIOGUIDE_ID', 'AMOUNT']].groupby(['BIOGUIDE_ID'], as_index=False).mean().sort_values(by='AMOUNT', ascending=False).iloc[0]['AMOUNT']))"
   ]
  },
  {
   "cell_type": "code",
   "execution_count": null,
   "metadata": {
    "scrolled": false
   },
   "outputs": [],
   "source": [
    "\"\"\"\n",
    "import json\n",
    "import requests\n",
    "\n",
    "dictServeDate = {}\n",
    "for member in df['BIOGUIDE_ID'].unique():\n",
    "    url = \"https://api.propublica.org/congress/v1/members/{}.json\".format(member)\n",
    "    response = requests.get(url, headers={'X-API-Key': 'X39vBTJI1ddXrbx3SCqNh4OzY70BCp6dwyAqUAxU'})\n",
    "    minDate = pd.to_datetime('today')\n",
    "    try:\n",
    "        for role in json.loads(response.text)['results'][0]['roles']:\n",
    "            if role['start_date'] and pd.to_datetime(role['start_date']) < minDate:\n",
    "                minDate = pd.to_datetime(role['start_date'])\n",
    "    except KeyError:\n",
    "        pass\n",
    "    dictServeDate[member] = minDate\n",
    "\"\"\""
   ]
  },
  {
   "cell_type": "code",
   "execution_count": 174,
   "metadata": {},
   "outputs": [
    {
     "data": {
      "text/plain": [
       "\"\\ndictServe4 = set()\\nfor member, date in dictServeDate.items():\\n    if (pd.to_datetime('today') - date).days >= 4*365:\\n        dictServe4.add(member)\\n\""
      ]
     },
     "execution_count": 174,
     "metadata": {},
     "output_type": "execute_result"
    }
   ],
   "source": [
    "\"\"\"\n",
    "dictServe4 = set()\n",
    "for member, date in dictServeDate.items():\n",
    "    if (pd.to_datetime('today') - date).days >= 4*365:\n",
    "        dictServe4.add(member)\n",
    "\"\"\""
   ]
  },
  {
   "cell_type": "code",
   "execution_count": 192,
   "metadata": {},
   "outputs": [],
   "source": [
    "#\n",
    "# Question 6\n",
    "#\n",
    "dfTmp = df[['BIOGUIDE_ID', 'YEAR', 'PAYEE']].groupby(['BIOGUIDE_ID', 'YEAR'])['PAYEE'].nunique().reset_index()\n",
    "dfTmp = dfTmp[dfTmp['PAYEE']>=5]\n",
    "slcRep = set(dfTmp[['BIOGUIDE_ID', 'YEAR']].groupby(['BIOGUIDE_ID'], as_index=False).count()[dfTmp[['BIOGUIDE_ID', 'YEAR']].groupby(['BIOGUIDE_ID'], as_index=False).count()['YEAR']>=4]['BIOGUIDE_ID'])\n",
    "df_turnover = df[df['BIOGUIDE_ID'].isin(slcRep)][['BIOGUIDE_ID', 'YEAR', 'PAYEE', 'AMOUNT']].groupby(['BIOGUIDE_ID', 'YEAR', 'PAYEE']).sum().reset_index()[['BIOGUIDE_ID', 'YEAR', 'PAYEE']]"
   ]
  },
  {
   "cell_type": "code",
   "execution_count": 206,
   "metadata": {},
   "outputs": [],
   "source": [
    "df_turnover1 = df_turnover[['BIOGUIDE_ID', 'YEAR', 'PAYEE']].rename(index=str, columns={\"YEAR\": \"NEXT YEAR\"})\n",
    "df_cmb = df_turnover.merge(df_turnover1, on=['BIOGUIDE_ID', 'PAYEE'], how='left')\n",
    "df_cmb = df_cmb[(df_cmb['YEAR']==df_cmb['NEXT YEAR']) | (df_cmb['YEAR']+1==df_cmb['NEXT YEAR'])]\n",
    "df_cmb[\"TURN OVER\"] = df_cmb['YEAR']==df_cmb['NEXT YEAR']"
   ]
  },
  {
   "cell_type": "code",
   "execution_count": 214,
   "metadata": {},
   "outputs": [
    {
     "name": "stdout",
     "output_type": "stream",
     "text": [
      "Question 6: 0.6488385221\n"
     ]
    }
   ],
   "source": [
    "years = range(2011,2017)\n",
    "annualTurnOver = []\n",
    "for year in years:\n",
    "    dfTmp = df_cmb[df_cmb['YEAR']==year-1][['BIOGUIDE_ID', 'TURN OVER']].groupby(['BIOGUIDE_ID'], as_index=False).mean()\n",
    "    annualTurnOver.append(dfTmp['TURN OVER'].mean())\n",
    "print(\"Question 6: {:.10}\".format(np.median(annualTurnOver)))"
   ]
  },
  {
   "cell_type": "code",
   "execution_count": 91,
   "metadata": {},
   "outputs": [
    {
     "name": "stdout",
     "output_type": "stream",
     "text": [
      "{'UNKNOWN': 'NA', 'A000374': 'R', 'A000370': 'D', 'A000055': 'R', 'A000371': 'D', 'A000372': 'R', 'A000367': 'R', 'A000369': 'R', 'A000375': 'R', 'A000373': 'D', 'B001291': 'R', 'B001256': 'R', 'B001298': 'R', 'B001299': 'R', 'B001269': 'R', 'B001282': 'R', 'B001300': 'D', 'B000213': 'R', 'B001270': 'D', 'B001281': 'D', 'B000287': 'D', 'B001271': 'R', 'B001287': 'D', 'B001301': 'R', 'B001292': 'D', 'B001302': 'R', 'B001257': 'R', 'B001293': 'R', 'B001250': 'R', 'B000490': 'D', 'B001273': 'R', 'B001243': 'R', 'B001294': 'R', 'B000574': 'D', 'B001278': 'D', 'B001245': 'D', 'B001295': 'R', 'B001296': 'D', 'B000755': 'R', 'B001227': 'D', 'B001290': 'R', 'B001283': 'R', 'B001274': 'R', 'B001284': 'R', 'B001304': 'D', 'B001285': 'D', 'B001260': 'R', 'B001297': 'R', 'B001275': 'R', 'B001305': 'R', 'B001248': 'R', 'B001286': 'D', 'B001251': 'D', 'B001289': 'R', 'C000059': 'R', 'C001037': 'D', 'C001112': 'D', 'C001097': 'D', 'C001083': 'D', 'C001072': 'D', 'C001103': 'R', 'C001051': 'R', 'C001090': 'D', 'C001066': 'D', 'C001091': 'D', 'C000266': 'R', 'C001076': 'R', 'C001109': 'R', 'C001080': 'D', 'C001084': 'D', 'C001101': 'D', 'C001067': 'D', 'C001049': 'D', 'C001061': 'D', 'C000537': 'D', 'C001077': 'R', 'C001068': 'D', 'C001053': 'R', 'C001092': 'R', 'C001093': 'R', 'C001108': 'R', 'C001105': 'R', 'C001062': 'R', 'C001078': 'D', 'C000714': 'D', 'C001094': 'R', 'C000754': 'D', 'C001110': 'D', 'C001059': 'D', 'C001106': 'R', 'C001069': 'D', 'C001096': 'R', 'C001087': 'R', 'C001045': 'R', 'C001111': 'D', 'C001038': 'D', 'C001063': 'D', 'C001048': 'R', 'C000984': 'D', 'C001107': 'R', 'D000626': 'R', 'D000096': 'D', 'D000619': 'R', 'D000598': 'D', 'D000191': 'D', 'D000197': 'D', 'D000620': 'D', 'D000216': 'D', 'D000617': 'D', 'D000627': 'D', 'D000612': 'R', 'D000604': 'R', 'D000621': 'R', 'D000623': 'D', 'D000616': 'R', 'D000610': 'D', 'D000600': 'R', 'D000624': 'D', 'D000399': 'D', 'D000613': 'R', 'D000625': 'R', 'D000482': 'D', 'D000622': 'D', 'D000614': 'R', 'D000615': 'R', 'D000533': 'R', 'D000628': 'R', 'E000288': 'D', 'E000291': 'R', 'E000294': 'R', 'E000179': 'D', 'E000215': 'D', 'E000297': 'D', 'E000298': 'R', 'E000293': 'D', 'E000296': 'D', 'F000460': 'R', 'F000030': 'D', 'F000464': 'R', 'F000043': 'D', 'F000465': 'R', 'F000458': 'R', 'F000466': 'R', 'F000451': 'R', 'F000459': 'R', 'F000456': 'R', 'F000461': 'R', 'F000449': 'R', 'F000454': 'D', 'F000450': 'R', 'F000462': 'D', 'F000448': 'R', 'F000372': 'R', 'F000455': 'D', 'G000571': 'D', 'G000578': 'R', 'G000579': 'R', 'G000574': 'D', 'G000559': 'D', 'G000580': 'R', 'G000584': 'R', 'G000563': 'R', 'G000564': 'R', 'G000552': 'R', 'G000585': 'D', 'G000581': 'D', 'G000582': 'R', 'G000289': 'R', 'G000565': 'R', 'G000583': 'D', 'G000566': 'R', 'G000575': 'D', 'G000377': 'R', 'G000577': 'R', 'G000546': 'R', 'G000560': 'R', 'G000556': 'D', 'G000553': 'D', 'G000410': 'D', 'G000568': 'R', 'G000551': 'D', 'G000576': 'R', 'G000558': 'R', 'G000535': 'D', 'H001063': 'D', 'H001050': 'D', 'H001078': 'R', 'H001051': 'R', 'H001070': 'R', 'H001045': 'R', 'H001052': 'R', 'H001053': 'R', 'H000324': 'D', 'H001064': 'D', 'H001055': 'R', 'H001036': 'R', 'H001056': 'R', 'H001071': 'R', 'H001038': 'D', 'H001077': 'R', 'H001072': 'R', 'H001047': 'D', 'H000636': 'D', 'H001065': 'R', 'H001074': 'R', 'H001034': 'D', 'H000874': 'D', 'H001067': 'R', 'H001057': 'R', 'H001068': 'D', 'H001058': 'R', 'H001059': 'R', 'H001048': 'R', 'H001073': 'R', 'H001060': 'R', 'I000056': 'R', 'J000032': 'D', 'J000298': 'D', 'J000294': 'D', 'J000297': 'R', 'J000290': 'R', 'J000292': 'R', 'J000126': 'D', 'J000288': 'D', 'J000299': 'R', 'J000174': 'R', 'J000255': 'R', 'J000289': 'R', 'J000295': 'R', 'K000009': 'D', 'K000386': 'R', 'K000375': 'D', 'K000376': 'R', 'K000385': 'D', 'K000388': 'R', 'K000379': 'D', 'K000389': 'D', 'K000390': 'D', 'K000380': 'D', 'K000381': 'D', 'K000188': 'D', 'K000210': 'R', 'K000362': 'R', 'K000378': 'R', 'K000368': 'D', 'K000387': 'R', 'K000391': 'D', 'K000382': 'D', 'K000392': 'R', 'L000573': 'R', 'L000585': 'R', 'L000578': 'R', 'L000564': 'R', 'L000567': 'R', 'L000559': 'D', 'L000560': 'D', 'L000557': 'D', 'L000566': 'R', 'L000581': 'D', 'L000586': 'D', 'L000551': 'D', 'L000263': 'D', 'L000587': 'R', 'L000287': 'D', 'L000582': 'D', 'L000563': 'D', 'L000554': 'R', 'L000565': 'D', 'L000397': 'D', 'L000576': 'R', 'L000583': 'R', 'L000584': 'R', 'L000579': 'D', 'L000480': 'D', 'L000491': 'R', 'L000569': 'R', 'G000480': 'NA', 'L000570': 'D', 'L000571': 'R', 'L000562': 'D', 'M001193': 'R', 'M000087': 'D', 'M001185': 'D', 'M001158': 'R', 'M001179': 'R', 'M001198': 'R', 'M001184': 'R', 'M001199': 'R', 'M001163': 'D', 'M001165': 'R', 'M001157': 'R', 'M001177': 'R', 'M001143': 'D', 'M001200': 'D', 'M000312': 'D', 'M001156': 'R', 'M001180': 'R', 'R000373': 'NA', 'M001166': 'D', 'M001197': 'R', 'M001187': 'R', 'M001181': 'R', 'M001137': 'D', 'M001188': 'D', 'M001189': 'R', 'M000689': 'R', 'M001150': 'R', 'M001144': 'R', 'M001201': 'R', 'M001194': 'R', 'M001195': 'R', 'M001160': 'D', 'M001196': 'D', 'M001190': 'R', 'M001182': 'R', 'M001191': 'D', 'M001202': 'D', 'M001151': 'R', 'N000002': 'D', 'N000179': 'D', 'N000015': 'D', 'N000182': 'R', 'N000189': 'R', 'N000184': 'R', 'N000127': 'D', 'N000188': 'D', 'N000190': 'R', 'N000147': 'D', 'N000185': 'R', 'N000181': 'R', 'O000171': 'D', 'O000170': 'D', 'O000168': 'R', 'P000601': 'R', 'P000034': 'D', 'P000609': 'R', 'P000613': 'D', 'P000096': 'D', 'P000594': 'R', 'P000604': 'D', 'P000588': 'R', 'P000197': 'D', 'P000593': 'D', 'P000605': 'R', 'P000608': 'D', 'P000258': 'D', 'P000597': 'D', 'P000606': 'R', 'P000373': 'R', 'P000610': 'D', 'P000607': 'D', 'P000592': 'R', 'P000611': 'R', 'P000598': 'D', 'P000602': 'R', 'P000599': 'R', 'P000523': 'D', 'P000591': 'R', 'Q000023': 'D', 'R000600': 'R', 'R000606': 'D', 'R000601': 'R', 'R000585': 'R', 'R000578': 'R', 'R000586': 'R', 'R000587': 'R', 'R000602': 'D', 'R000597': 'R', 'R000588': 'D', 'R000589': 'R', 'R000591': 'R', 'R000360': 'NA', 'R000582': 'R', 'R000395': 'R', 'R000575': 'R', 'R000409': 'R', 'R000592': 'R', 'R000607': 'R', 'R000583': 'R', 'R000435': 'R', 'R000608': 'D', 'R000580': 'R', 'R000593': 'R', 'R000598': 'R', 'R000603': 'R', 'R000486': 'D', 'R000487': 'R', 'R000599': 'D', 'R000576': 'D', 'R000515': 'D', 'R000604': 'R', 'R000609': 'R', 'R000570': 'R', 'R000577': 'D', 'S001177': 'I', 'S000018': 'R', 'S000030': 'D', 'S000051': 'R', 'S001168': 'D', 'S001176': 'R', 'S001145': 'D', 'S001150': 'D', 'S001190': 'D', 'S001180': 'D', 'S001183': 'R', 'S001189': 'R', 'S001157': 'D', 'S000185': 'D', 'S000244': 'R', 'S000248': 'D', 'S000250': 'R', 'S001185': 'D', 'S001170': 'D', 'S000344': 'D', 'S000364': 'R', 'S001154': 'R', 'S001148': 'R', 'S001191': 'D', 'S001165': 'D', 'S000480': 'D', 'S000510': 'D', 'S001172': 'R', 'S000522': 'R', 'S001195': 'R', 'S000583': 'R', 'S001199': 'R', 'S001200': 'D', 'S001186': 'R', 'S001175': 'D', 'S001196': 'R', 'S001192': 'R', 'S001187': 'R', 'S001188': 'R', 'S001201': 'D', 'S001193': 'D', 'T000473': 'D', 'T000472': 'D', 'T000477': 'R', 'T000478': 'R', 'T000193': 'D', 'T000467': 'R', 'T000460': 'D', 'T000238': 'R', 'T000462': 'R', 'T000470': 'R', 'T000468': 'D', 'T000469': 'D', 'T000474': 'D', 'T000475': 'R', 'T000465': 'D', 'T000463': 'R', 'U000031': 'R', 'V000129': 'R', 'V000128': 'D', 'V000130': 'D', 'V000131': 'D', 'V000132': 'D', 'V000081': 'D', 'V000108': 'D', 'W000812': 'R', 'W000798': 'R', 'W000791': 'R', 'W000819': 'R', 'W000813': 'R', 'W000820': 'R', 'W000799': 'D', 'W000797': 'D', 'W000187': 'D', 'W000822': 'D', 'W000814': 'R', 'W000806': 'R', 'W000800': 'D', 'W000815': 'R', 'W000821': 'R', 'W000796': 'R', 'W000816': 'R', 'W000808': 'D', 'W000795': 'R', 'W000804': 'R', 'W000809': 'R', 'W000810': 'R', 'Y000062': 'D', 'Y000063': 'R', 'Y000065': 'R', 'Y000066': 'R', 'Y000033': 'R', 'Z000017': 'R', 'Z000018': 'R', 'A000014': 'D', 'A000022': 'D', 'A000364': 'D', 'A000358': 'R', 'A000361': 'R', 'A000362': 'D', 'A000210': 'D', 'A000363': 'D', 'A000365': 'R', 'B001234': 'D', 'B000013': 'R', 'B001229': 'D', 'B001230': 'D', 'B001239': 'R', 'B001252': 'D', 'B000208': 'R', 'B001253': 'D', 'B001231': 'D', 'B000410': 'D', 'B000420': 'D', 'B001232': 'R', 'B000461': 'R', 'B001242': 'D', 'B000575': 'R', 'B001263': 'D', 'B000589': 'R', 'B001244': 'R', 'B001228': 'R', 'B001236': 'R', 'B001254': 'D', 'B000652': 'D', 'B000657': 'D', 'B001255': 'R', 'B000716': 'D', 'B001259': 'D', 'B001264': 'D', 'B001262': 'R', 'B001247': 'R', 'B000911': 'D', 'B001235': 'R', 'B001149': 'R', 'B001203': 'R', 'C000071': 'R', 'C001064': 'R', 'C001046': 'R', 'C001079': 'R', 'C001047': 'R', 'C001036': 'D', 'C001050': 'D', 'C001060': 'D', 'C001065': 'D', 'C001075': 'R', 'C000243': 'R', 'C001058': 'D', 'C001074': 'D', 'C000380': 'D', 'C000556': 'R', 'C000794': 'D', 'D000608': 'D', 'D000602': 'D', 'D000599': 'D', 'D000603': 'R', 'D000168': 'R', 'D000210': 'D', 'D000299': 'R', 'D000327': 'D', 'D000355': 'D', 'D000607': 'D', 'D000492': 'R', 'D000609': 'D', 'E000290': 'D', 'E000063': 'D', 'E000092': 'R', 'E000289': 'D', 'E000172': 'R', 'E000226': 'D', 'F000010': 'D', 'F000453': 'R', 'F000116': 'D', 'F000444': 'R', 'F000445': 'R', 'F000339': 'D', 'G000021': 'R', 'G000548': 'R', 'G000549': 'R', 'G000554': 'D', 'G000555': 'D', 'G000550': 'R', 'G000544': 'D', 'G000309': 'D', 'G000557': 'R', 'H001039': 'D', 'H000067': 'R', 'H001044': 'D', 'H001040': 'D', 'H000213': 'D', 'H000329': 'R', 'H001029': '', 'H001046': 'D', 'H001041': 'R', 'H000528': 'R', 'H001037': 'D', 'H001030': 'D', 'H000627': 'D', 'H001042': 'D', 'H000666': '', 'H001043': 'D', 'H000676': 'R', 'H000712': 'D', 'H001032': 'D', 'H000762': '', 'I000023': 'R', 'I000026': 'D', 'I000057': 'D', 'J000283': 'D', 'J000285': 'R', 'K000365': 'D', 'K000008': 'D', 'K000113': 'D', 'K000172': 'D', 'K000180': 'D', 'K000372': 'D', 'K000220': 'R', 'K000360': 'R', 'K000369': 'D', 'K000366': 'D', 'K000363': 'R', 'K000370': 'D', 'K000371': 'D', 'K000336': 'D', 'L000111': 'R', 'L000553': 'R', 'L000568': 'R', 'L000274': 'R', 'L000321': 'R', 'L000517': 'R', 'M001155': 'R', 'M001171': 'D', 'M001138': 'R', 'M001172': 'D', 'M000133': 'D', 'M001146': 'D', 'M001173': 'D', 'M001142': 'D', 'M000309': 'D', 'M001147': 'R', 'M000404': 'D', 'M000472': '', 'M000485': 'D', 'M000508': 'R', 'M001174': 'D', 'M001159': 'R', 'M001148': 'D', 'M001161': 'D', 'M001149': 'D', 'M001154': 'D', 'M001139': 'R', 'M000725': 'D', 'M001175': 'D', 'M001167': 'D', 'M000844': 'D', 'M001140': 'D', 'M000933': 'D', 'M000934': 'R', 'M001169': 'D', 'M001168': 'D', 'M001178': 'D', 'M001120': 'D', 'M001134': 'R', 'N000183': 'D', 'O000006': 'D', 'O000007': 'D', 'O000085': 'D', 'O000107': 'D', 'O000169': 'D', 'P000099': 'D', 'P000583': 'R', 'P000149': 'D', 'P000587': 'R', 'P000600': 'D', 'P000595': 'D', 'P000265': 'R', 'P000596': 'D', 'P000585': 'R', 'P000422': 'D', 'P000586': 'R', 'R000004': 'R', 'R000011': 'D', 'R000053': 'D', 'R000141': '', 'R000571': 'R', 'R000170': 'D', 'R000581': 'D', 'R000568': 'D', 'R000573': 'D', 'R000462': 'D', 'S001158': 'D', 'S001156': 'D', 'S001178': 'D', 'S001164': 'R', 'S001179': 'R', 'S001162': 'D', 'S001169': 'D', 'S000275': 'R', 'S001171': 'D', 'S000465': 'D', 'S000672': 'D', 'S001153': '', 'S001143': 'R', 'S001173': 'D', 'S000749': 'D', 'S000810': 'D', 'S000822': 'R', 'S001045': 'D', 'S001155': 'R', 'S001174': 'D', 'T000038': 'D', 'T000057': '', 'T000074': 'D', 'T000466': 'D', 'T000459': 'R', 'T000260': 'R', 'T000266': 'D', 'T000326': 'D', 'W000119': 'R', 'W000794': 'D', 'W000207': 'D', 'W000215': 'D', 'W000792': 'D', 'W000314': '', 'W000413': 'R', 'W000801': 'D', 'W000672': 'R', 'W000738': 'D', 'W000793': 'D', 'Y000031': 'R', 'B001279': 'D', 'B001280': 'R', 'C001102': 'R', 'C001095': 'R', 'D000618': 'R', 'E000292': 'D', 'G000572': 'D', 'G000573': 'D', 'G000562': 'R', 'G000567': 'R', 'G000569': 'R', 'H001062': 'D', 'H001066': 'D', 'J000296': 'R', 'L000575': 'R', 'L000580': 'D', 'M001192': 'R', 'N000187': 'D', 'N000186': 'R', 'R000596': 'R', 'R000572': 'R', 'R000594': 'R', 'S000937': 'R', 'Y000064': 'R', 'A000366': 'R', 'B000220': 'R', 'B001272': 'R', 'B001276': 'R', 'C001082': 'R', 'C001085': 'D', 'C001086': 'R', 'C001081': 'D', 'G000570': 'R', 'H001054': 'R', 'L000574': 'R', 'Q000024': 'R', 'R000590': 'R', 'S001182': 'R', 'S001184': 'R', 'T000471': 'R', 'W000811': 'R', 'W000807': 'R', 'D000611': '', 'R000569': '', 'U000039': 'D', 'B001258': '', 'A000357': '', 'J000287': '', 'D000605': '', 'M001152': '', 'G000280': '', 'P000263': '', 'S001144': '', 'S001167': '', 'F000443': '', 'C000116': '', 'C001073': '', 'C000868': '', 'C000962': '', 'E000287': '', 'F000447': '', 'F000452': '', 'G000180': '', 'J000284': '', 'K000288': '', 'L000552': '', 'L000043': '', 'L000090': '', 'L000293': '', 'M001164': '', 'P000323': '', 'P000589': '', 'R000033': '', 'R000574': '', 'T000458': '', 'U000038': 'D', 'W000099': '', 'W000267': '', 'W000789': '', 'C001114': 'R', 'C001089': 'D', 'C000090': 'NA'}\n"
     ]
    }
   ],
   "source": [
    "#\n",
    "# Question 7\n",
    "#\n",
    "\n",
    "import json\n",
    "import requests\n",
    "\n",
    "dictParty = {}\n",
    "for member in df['BIOGUIDE_ID'].unique():\n",
    "    url = \"https://api.propublica.org/congress/v1/members/{}.json\".format(member)\n",
    "    response = requests.get(url, headers={'X-API-Key': 'X39vBTJI1ddXrbx3SCqNh4OzY70BCp6dwyAqUAxU'})\n",
    "    try:\n",
    "        dictParty[member] = json.loads(response.text)['results'][0]['current_party']\n",
    "    except KeyError:\n",
    "        dictParty[member] = 'NA'\n",
    "        \n",
    "top20 = df[(df['START DATE'].dt.year==2016) & (df['BIOGUIDE_ID']!='UNKNOWN')][['BIOGUIDE_ID', 'AMOUNT']].groupby(['BIOGUIDE_ID'], as_index=False).sum().sort_values(by='AMOUNT', ascending=False).iloc[:20][['BIOGUIDE_ID', 'AMOUNT']].values\n",
    "democ, total = 0, 0\n",
    "for member in top20:\n",
    "    if dictParty[member[0]] == 'D':\n",
    "        democ += member[1]\n",
    "    total += member[1]\n",
    "print(\"Question 7: {:.10}\".format(democ/total))"
   ]
  }
 ],
 "metadata": {
  "kernelspec": {
   "display_name": "Python 3",
   "language": "python",
   "name": "python3"
  },
  "language_info": {
   "codemirror_mode": {
    "name": "ipython",
    "version": 3
   },
   "file_extension": ".py",
   "mimetype": "text/x-python",
   "name": "python",
   "nbconvert_exporter": "python",
   "pygments_lexer": "ipython3",
   "version": "3.6.0"
  },
  "toc": {
   "base_numbering": 1,
   "nav_menu": {},
   "number_sections": true,
   "sideBar": true,
   "skip_h1_title": false,
   "title_cell": "Table of Contents",
   "title_sidebar": "Contents",
   "toc_cell": false,
   "toc_position": {},
   "toc_section_display": true,
   "toc_window_display": false
  }
 },
 "nbformat": 4,
 "nbformat_minor": 2
}
